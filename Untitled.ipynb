{
 "cells": [
  {
   "cell_type": "code",
   "execution_count": 1,
   "id": "02a752d4",
   "metadata": {},
   "outputs": [],
   "source": [
    "import pandas as pd "
   ]
  },
  {
   "cell_type": "code",
   "execution_count": 2,
   "id": "01cc69ae",
   "metadata": {},
   "outputs": [
    {
     "data": {
      "text/html": [
       "<div>\n",
       "<style scoped>\n",
       "    .dataframe tbody tr th:only-of-type {\n",
       "        vertical-align: middle;\n",
       "    }\n",
       "\n",
       "    .dataframe tbody tr th {\n",
       "        vertical-align: top;\n",
       "    }\n",
       "\n",
       "    .dataframe thead th {\n",
       "        text-align: right;\n",
       "    }\n",
       "</style>\n",
       "<table border=\"1\" class=\"dataframe\">\n",
       "  <thead>\n",
       "    <tr style=\"text-align: right;\">\n",
       "      <th></th>\n",
       "      <th>name</th>\n",
       "      <th>phone</th>\n",
       "      <th>website</th>\n",
       "      <th>count</th>\n",
       "      <th>rate</th>\n",
       "      <th>stars</th>\n",
       "      <th>time</th>\n",
       "    </tr>\n",
       "  </thead>\n",
       "  <tbody>\n",
       "    <tr>\n",
       "      <th>0</th>\n",
       "      <td>Lenko Motors Auto Sales, LLC</td>\n",
       "      <td>(502) 227-5066</td>\n",
       "      <td>http://www.lenkocars.com</td>\n",
       "      <td>0</td>\n",
       "      <td>5.00</td>\n",
       "      <td>0</td>\n",
       "      <td>does not exist</td>\n",
       "    </tr>\n",
       "    <tr>\n",
       "      <th>1</th>\n",
       "      <td>Select Auto</td>\n",
       "      <td>(502) 804-2562</td>\n",
       "      <td>http://www.selectautoky.com</td>\n",
       "      <td>38</td>\n",
       "      <td>4.11</td>\n",
       "      <td>(55)</td>\n",
       "      <td>Closed Today (Sun)</td>\n",
       "    </tr>\n",
       "    <tr>\n",
       "      <th>2</th>\n",
       "      <td>EZ Car Connection</td>\n",
       "      <td>(502) 466-3106</td>\n",
       "      <td>http://www.ezcarconnection.com</td>\n",
       "      <td>31</td>\n",
       "      <td>5.00</td>\n",
       "      <td>(20)</td>\n",
       "      <td>By Appointment Only</td>\n",
       "    </tr>\n",
       "    <tr>\n",
       "      <th>3</th>\n",
       "      <td>Hensley Auto Sales Frankfort</td>\n",
       "      <td>(502) 223-2252</td>\n",
       "      <td>https://www.hensleyautos.com</td>\n",
       "      <td>18</td>\n",
       "      <td>0.00</td>\n",
       "      <td>(12)</td>\n",
       "      <td>does not exist</td>\n",
       "    </tr>\n",
       "    <tr>\n",
       "      <th>4</th>\n",
       "      <td>Bob Allen Chrysler Jeep Dodge of Frankfort</td>\n",
       "      <td>(502) 695-0166</td>\n",
       "      <td>http://www.boballencdjoffrankfort.com</td>\n",
       "      <td>0</td>\n",
       "      <td>4.50</td>\n",
       "      <td>(39)</td>\n",
       "      <td>does not exist</td>\n",
       "    </tr>\n",
       "  </tbody>\n",
       "</table>\n",
       "</div>"
      ],
      "text/plain": [
       "                                         name           phone  \\\n",
       "0                Lenko Motors Auto Sales, LLC  (502) 227-5066   \n",
       "1                                 Select Auto  (502) 804-2562   \n",
       "2                           EZ Car Connection  (502) 466-3106   \n",
       "3                Hensley Auto Sales Frankfort  (502) 223-2252   \n",
       "4  Bob Allen Chrysler Jeep Dodge of Frankfort  (502) 695-0166   \n",
       "\n",
       "                                 website  count  rate stars  \\\n",
       "0               http://www.lenkocars.com      0  5.00     0   \n",
       "1            http://www.selectautoky.com     38  4.11  (55)   \n",
       "2         http://www.ezcarconnection.com     31  5.00  (20)   \n",
       "3           https://www.hensleyautos.com     18  0.00  (12)   \n",
       "4  http://www.boballencdjoffrankfort.com      0  4.50  (39)   \n",
       "\n",
       "                  time  \n",
       "0       does not exist  \n",
       "1   Closed Today (Sun)  \n",
       "2  By Appointment Only  \n",
       "3       does not exist  \n",
       "4       does not exist  "
      ]
     },
     "execution_count": 2,
     "metadata": {},
     "output_type": "execute_result"
    }
   ],
   "source": [
    "df1 = pd.read_excel('Frankfort.xlsx'  , names =['name' , 'phone' , 'website' , 'count' , 'rate' , 'stars' , 'time'] )\n",
    "df2 = pd.read_excel('data/Frankfort.xlsx' , names =['name' , 'addres' , 'link'])\n",
    "df1.head()"
   ]
  },
  {
   "cell_type": "code",
   "execution_count": 3,
   "id": "cce0e902",
   "metadata": {},
   "outputs": [
    {
     "data": {
      "text/html": [
       "<div>\n",
       "<style scoped>\n",
       "    .dataframe tbody tr th:only-of-type {\n",
       "        vertical-align: middle;\n",
       "    }\n",
       "\n",
       "    .dataframe tbody tr th {\n",
       "        vertical-align: top;\n",
       "    }\n",
       "\n",
       "    .dataframe thead th {\n",
       "        text-align: right;\n",
       "    }\n",
       "</style>\n",
       "<table border=\"1\" class=\"dataframe\">\n",
       "  <thead>\n",
       "    <tr style=\"text-align: right;\">\n",
       "      <th></th>\n",
       "      <th>name</th>\n",
       "      <th>addres</th>\n",
       "      <th>link</th>\n",
       "      <th>phone</th>\n",
       "      <th>website</th>\n",
       "      <th>count</th>\n",
       "      <th>rate</th>\n",
       "      <th>stars</th>\n",
       "      <th>time</th>\n",
       "    </tr>\n",
       "  </thead>\n",
       "  <tbody>\n",
       "    <tr>\n",
       "      <th>0</th>\n",
       "      <td>Lenko Motors Auto Sales, LLC</td>\n",
       "      <td>712 Holmes str, Frankfort, KY 40601 (1 mi)</td>\n",
       "      <td>/Cars/m-Lenko-Motors-Auto-Sales-LLC-sp375483</td>\n",
       "      <td>(502) 227-5066</td>\n",
       "      <td>http://www.lenkocars.com</td>\n",
       "      <td>0</td>\n",
       "      <td>5.00</td>\n",
       "      <td>0</td>\n",
       "      <td>does not exist</td>\n",
       "    </tr>\n",
       "    <tr>\n",
       "      <th>1</th>\n",
       "      <td>Lenko Motors Auto Sales, LLC</td>\n",
       "      <td>712 Holmes str, Frankfort, KY 40601 (1 mi)</td>\n",
       "      <td>/Cars/m-Lenko-Motors-Auto-Sales-LLC-sp375483</td>\n",
       "      <td>(502) 227-5066</td>\n",
       "      <td>http://www.lenkocars.com</td>\n",
       "      <td>0</td>\n",
       "      <td>5.00</td>\n",
       "      <td>0</td>\n",
       "      <td>does not exist</td>\n",
       "    </tr>\n",
       "    <tr>\n",
       "      <th>2</th>\n",
       "      <td>Lenko Motors Auto Sales, LLC</td>\n",
       "      <td>712 Holmes str, Frankfort, KY 40601 (1 mi)</td>\n",
       "      <td>/Cars/m-Lenko-Motors-Auto-Sales-LLC-sp375483</td>\n",
       "      <td>(502) 227-5066</td>\n",
       "      <td>http://www.lenkocars.com</td>\n",
       "      <td>0</td>\n",
       "      <td>5.00</td>\n",
       "      <td>0</td>\n",
       "      <td>does not exist</td>\n",
       "    </tr>\n",
       "    <tr>\n",
       "      <th>3</th>\n",
       "      <td>Lenko Motors Auto Sales, LLC</td>\n",
       "      <td>712 Holmes str, Frankfort, KY 40601 (1 mi)</td>\n",
       "      <td>/Cars/m-Lenko-Motors-Auto-Sales-LLC-sp375483</td>\n",
       "      <td>(502) 227-5066</td>\n",
       "      <td>http://www.lenkocars.com</td>\n",
       "      <td>0</td>\n",
       "      <td>5.00</td>\n",
       "      <td>0</td>\n",
       "      <td>does not exist</td>\n",
       "    </tr>\n",
       "    <tr>\n",
       "      <th>4</th>\n",
       "      <td>Select Auto</td>\n",
       "      <td>455 Versailles Rd, Frankfort, KY 40601 (2 mi)</td>\n",
       "      <td>/Cars/m-Select-Auto-sp66643</td>\n",
       "      <td>(502) 804-2562</td>\n",
       "      <td>http://www.selectautoky.com</td>\n",
       "      <td>38</td>\n",
       "      <td>4.11</td>\n",
       "      <td>(55)</td>\n",
       "      <td>Closed Today (Sun)</td>\n",
       "    </tr>\n",
       "  </tbody>\n",
       "</table>\n",
       "</div>"
      ],
      "text/plain": [
       "                           name  \\\n",
       "0  Lenko Motors Auto Sales, LLC   \n",
       "1  Lenko Motors Auto Sales, LLC   \n",
       "2  Lenko Motors Auto Sales, LLC   \n",
       "3  Lenko Motors Auto Sales, LLC   \n",
       "4                   Select Auto   \n",
       "\n",
       "                                          addres  \\\n",
       "0     712 Holmes str, Frankfort, KY 40601 (1 mi)   \n",
       "1     712 Holmes str, Frankfort, KY 40601 (1 mi)   \n",
       "2     712 Holmes str, Frankfort, KY 40601 (1 mi)   \n",
       "3     712 Holmes str, Frankfort, KY 40601 (1 mi)   \n",
       "4  455 Versailles Rd, Frankfort, KY 40601 (2 mi)   \n",
       "\n",
       "                                           link           phone  \\\n",
       "0  /Cars/m-Lenko-Motors-Auto-Sales-LLC-sp375483  (502) 227-5066   \n",
       "1  /Cars/m-Lenko-Motors-Auto-Sales-LLC-sp375483  (502) 227-5066   \n",
       "2  /Cars/m-Lenko-Motors-Auto-Sales-LLC-sp375483  (502) 227-5066   \n",
       "3  /Cars/m-Lenko-Motors-Auto-Sales-LLC-sp375483  (502) 227-5066   \n",
       "4                   /Cars/m-Select-Auto-sp66643  (502) 804-2562   \n",
       "\n",
       "                       website  count  rate stars                time  \n",
       "0     http://www.lenkocars.com      0  5.00     0      does not exist  \n",
       "1     http://www.lenkocars.com      0  5.00     0      does not exist  \n",
       "2     http://www.lenkocars.com      0  5.00     0      does not exist  \n",
       "3     http://www.lenkocars.com      0  5.00     0      does not exist  \n",
       "4  http://www.selectautoky.com     38  4.11  (55)  Closed Today (Sun)  "
      ]
     },
     "execution_count": 3,
     "metadata": {},
     "output_type": "execute_result"
    }
   ],
   "source": [
    "result = pd.merge(df2, df1, on = \"name\", how = \"inner\")\n",
    "result.head()"
   ]
  },
  {
   "cell_type": "code",
   "execution_count": 4,
   "id": "2c340be0",
   "metadata": {},
   "outputs": [
    {
     "data": {
      "text/plain": [
       "(796, 9)"
      ]
     },
     "execution_count": 4,
     "metadata": {},
     "output_type": "execute_result"
    }
   ],
   "source": [
    "result.shape"
   ]
  },
  {
   "cell_type": "code",
   "execution_count": 5,
   "id": "e14641f6",
   "metadata": {},
   "outputs": [],
   "source": [
    "result = result.drop_duplicates('name')"
   ]
  },
  {
   "cell_type": "code",
   "execution_count": 6,
   "id": "c94543f6",
   "metadata": {},
   "outputs": [
    {
     "data": {
      "text/plain": [
       "(722, 9)"
      ]
     },
     "execution_count": 6,
     "metadata": {},
     "output_type": "execute_result"
    }
   ],
   "source": [
    "result.shape"
   ]
  },
  {
   "cell_type": "code",
   "execution_count": 19,
   "id": "29566772",
   "metadata": {},
   "outputs": [],
   "source": [
    "writer = pd.ExcelWriter('Frankfort_res.xlsx', engine='xlsxwriter')\n",
    "result.to_excel(writer, sheet_name='daeler', index=False)\n",
    "writer.close()"
   ]
  },
  {
   "cell_type": "code",
   "execution_count": 17,
   "id": "60512a1b",
   "metadata": {},
   "outputs": [
    {
     "data": {
      "text/plain": [
       "(648, 9)"
      ]
     },
     "execution_count": 17,
     "metadata": {},
     "output_type": "execute_result"
    }
   ],
   "source": [
    "result.shape"
   ]
  },
  {
   "cell_type": "code",
   "execution_count": 14,
   "id": "406594a4",
   "metadata": {},
   "outputs": [],
   "source": []
  },
  {
   "cell_type": "code",
   "execution_count": null,
   "id": "86958610",
   "metadata": {},
   "outputs": [],
   "source": []
  }
 ],
 "metadata": {
  "kernelspec": {
   "display_name": "Python 3 (ipykernel)",
   "language": "python",
   "name": "python3"
  },
  "language_info": {
   "codemirror_mode": {
    "name": "ipython",
    "version": 3
   },
   "file_extension": ".py",
   "mimetype": "text/x-python",
   "name": "python",
   "nbconvert_exporter": "python",
   "pygments_lexer": "ipython3",
   "version": "3.10.10"
  }
 },
 "nbformat": 4,
 "nbformat_minor": 5
}
